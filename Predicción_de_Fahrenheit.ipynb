{
  "nbformat": 4,
  "nbformat_minor": 0,
  "metadata": {
    "colab": {
      "name": "Predicción de Fahrenheit.ipynb",
      "provenance": [],
      "authorship_tag": "ABX9TyP6SqXzI6mlHC/oQ//TfDlD",
      "include_colab_link": true
    },
    "kernelspec": {
      "name": "python3",
      "display_name": "Python 3"
    },
    "language_info": {
      "name": "python"
    }
  },
  "cells": [
    {
      "cell_type": "markdown",
      "metadata": {
        "id": "view-in-github",
        "colab_type": "text"
      },
      "source": [
        "<a href=\"https://colab.research.google.com/github/mlgrs/redes-neuronales/blob/master/Predicci%C3%B3n_de_Fahrenheit.ipynb\" target=\"_parent\"><img src=\"https://colab.research.google.com/assets/colab-badge.svg\" alt=\"Open In Colab\"/></a>"
      ]
    },
    {
      "cell_type": "code",
      "execution_count": null,
      "metadata": {
        "id": "I9V3hqrYJXMH"
      },
      "outputs": [],
      "source": [
        "import tensorflow as tf\n",
        "import numpy as np"
      ]
    },
    {
      "cell_type": "code",
      "source": [
        "celsius = np. array([-40, -10, 0, 8, 15, 22, 38], dtype=float)\n",
        "fahrenheit = np.array([-40, 14, 32, 46, 59, 72, 100], dtype=float)"
      ],
      "metadata": {
        "id": "RQ_S3OLUJcHK"
      },
      "execution_count": null,
      "outputs": []
    },
    {
      "cell_type": "code",
      "source": [
        "oculta1 = tf.keras.layers.Dense(units=3, input_shape=[1])\n",
        "oculta2 = tf.keras.layers.Dense(units=3)\n",
        "salida = tf.keras.layers.Dense(units=1)\n",
        "modelo = tf.keras.Sequential([oculta1, oculta2, salida])"
      ],
      "metadata": {
        "id": "ko1lXhQ9KD5D"
      },
      "execution_count": null,
      "outputs": []
    },
    {
      "cell_type": "code",
      "source": [
        "modelo.compile(\n",
        "    optimizer=tf.keras.optimizers.Adam(0.1),\n",
        "    loss='mean_squared_error'\n",
        ")"
      ],
      "metadata": {
        "id": "7S2C1ErRKU4p"
      },
      "execution_count": null,
      "outputs": []
    },
    {
      "cell_type": "code",
      "source": [
        "print('Comenzando entrenamiento...')\n",
        "historial = modelo.fit(celsius, fahrenheit, epochs=1000, verbose=False)\n",
        "print('Modelo entrenado')"
      ],
      "metadata": {
        "colab": {
          "base_uri": "https://localhost:8080/"
        },
        "id": "grsN3bw5Kmk0",
        "outputId": "96ed667b-8e40-41db-e928-efd8ae9572c2"
      },
      "execution_count": null,
      "outputs": [
        {
          "output_type": "stream",
          "name": "stdout",
          "text": [
            "Comenzando entrenamiento...\n",
            "Modelo entrenado\n"
          ]
        }
      ]
    },
    {
      "cell_type": "code",
      "source": [
        "import matplotlib.pyplot as plt\n",
        "plt.xlabel('# Epoca')\n",
        "plt.ylabel('Magnitud de perdida')\n",
        "plt.plot(historial.history['loss'])"
      ],
      "metadata": {
        "colab": {
          "base_uri": "https://localhost:8080/",
          "height": 296
        },
        "id": "PpX9g00GNoIn",
        "outputId": "daea4ebf-1500-475b-df0e-f8f236fcb114"
      },
      "execution_count": null,
      "outputs": [
        {
          "output_type": "execute_result",
          "data": {
            "text/plain": [
              "[<matplotlib.lines.Line2D at 0x7f57e06ca910>]"
            ]
          },
          "metadata": {},
          "execution_count": 15
        },
        {
          "output_type": "display_data",
          "data": {
            "image/png": "[encoded data removed]",
            "text/plain": [
              "<Figure size 432x288 with 1 Axes>"
            ]
          },
          "metadata": {
            "needs_background": "light"
          }
        }
      ]
    },
    {
      "cell_type": "code",
      "source": [
        "print('Prediccion')\n",
        "resultado = modelo.predict([100.0])\n",
        "print('El resutlado es ' + str(resultado) + ' fahrenheit')"
      ],
      "metadata": {
        "colab": {
          "base_uri": "https://localhost:8080/"
        },
        "id": "Wvxniv6TN5Wz",
        "outputId": "982ecb3f-d092-4deb-93de-40b57cafe182"
      },
      "execution_count": null,
      "outputs": [
        {
          "output_type": "stream",
          "name": "stdout",
          "text": [
            "Prediccion\n",
            "El resutlado es [[211.74744]] fahrenheit\n"
          ]
        }
      ]
    },
    {
      "cell_type": "code",
      "source": [
        "print('Variables internas del modelo')\n",
        "print(oculta1.get_weights())\n",
        "print(oculta2.get_weights())\n",
        "print(salida.get_weights())"
      ],
      "metadata": {
        "colab": {
          "base_uri": "https://localhost:8080/"
        },
        "id": "6cIGElqgPFvU",
        "outputId": "e42c4eeb-8534-465a-d99d-e59edebe91c5"
      },
      "execution_count": null,
      "outputs": [
        {
          "output_type": "stream",
          "name": "stdout",
          "text": [
            "Variables internas del modelo\n",
            "[array([[ 0.97234166,  0.58358824, -0.50096446]], dtype=float32), array([ 3.7644894, -1.0530337,  1.3488857], dtype=float32)]\n",
            "[array([[-1.3256279 ,  0.9083291 , -0.3684908 ],\n",
            "       [ 0.5796592 ,  0.15059736,  0.3245519 ],\n",
            "       [-0.46621996,  0.08199026, -0.81318146]], dtype=float32), array([-3.6574168,  2.9689581, -3.242268 ], dtype=float32)]\n",
            "[array([[-1.7966303 ],\n",
            "       [ 0.79005605],\n",
            "       [-0.94439375]], dtype=float32), array([3.4493096], dtype=float32)]\n"
          ]
        }
      ]
    }
  ]
}